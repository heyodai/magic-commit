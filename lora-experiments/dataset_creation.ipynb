{
 "cells": [
  {
   "cell_type": "markdown",
   "metadata": {},
   "source": [
    "# Dataset Creation\n",
    "\n",
    "Before we can create a LoRA checkpoint, we need a decent dataset to train on.\n",
    "\n",
    "I found this: https://github.com/DeepSoftwareAnalytics/CommitMsgEmpirical\n",
    "\n",
    "However, it does need a bit of cleanup"
   ]
  },
  {
   "cell_type": "code",
   "execution_count": 1,
   "metadata": {},
   "outputs": [],
   "source": [
    "import tarfile\n",
    "import pickle\n",
    "import sqlite3\n",
    "import os\n",
    "import pandas as pd"
   ]
  },
  {
   "cell_type": "markdown",
   "metadata": {},
   "source": [
    "## Step 1. Download and extract the dataset"
   ]
  },
  {
   "cell_type": "code",
   "execution_count": null,
   "metadata": {},
   "outputs": [],
   "source": [
    "# Download the data\n",
    "# !curl https://zenodo.org/records/5025758/files/raw_data.tar.gz?download=1 --output raw_data.tar.gz"
   ]
  },
  {
   "cell_type": "code",
   "execution_count": 2,
   "metadata": {},
   "outputs": [],
   "source": [
    "# FILENAME = 'raw_data.tar.gz'\n",
    "ROOT_DIR = 'dataset'"
   ]
  },
  {
   "cell_type": "code",
   "execution_count": 3,
   "metadata": {},
   "outputs": [],
   "source": [
    "# # Extract the .tar.gz file\n",
    "# tar = tarfile.open(FILENAME, \"r:gz\")\n",
    "# tar.extractall()\n",
    "# tar.close()"
   ]
  },
  {
   "cell_type": "markdown",
   "metadata": {},
   "source": [
    "## Step 2. Create a Sqlite database"
   ]
  },
  {
   "cell_type": "code",
   "execution_count": 4,
   "metadata": {},
   "outputs": [],
   "source": [
    "# # Create the sqlite database\n",
    "# !rm commits.db\n",
    "# conn = sqlite3.connect('commits.db')\n",
    "# c = conn.cursor()"
   ]
  },
  {
   "cell_type": "code",
   "execution_count": 5,
   "metadata": {},
   "outputs": [],
   "source": [
    "# # Create the tables\n",
    "# queries = []\n",
    "# queries.append(\"\"\"\n",
    "# CREATE TABLE Organizations (\n",
    "#     organization_id INTEGER PRIMARY KEY AUTOINCREMENT,\n",
    "#     organization_name TEXT NOT NULL\n",
    "# );\n",
    "# \"\"\")\n",
    "\n",
    "# queries.append(\"\"\"\n",
    "# CREATE TABLE Repositories (\n",
    "#     repo_id INTEGER PRIMARY KEY AUTOINCREMENT,\n",
    "#     repo_name TEXT NOT NULL,\n",
    "#     organization_id INTEGER,\n",
    "#     FOREIGN KEY (organization_id) REFERENCES Organizations (organization_id)\n",
    "# );\n",
    "# \"\"\")\n",
    "\n",
    "# queries.append(\"\"\"\n",
    "# CREATE TABLE Languages (\n",
    "#     language_id INTEGER PRIMARY KEY AUTOINCREMENT,\n",
    "#     language_name TEXT NOT NULL\n",
    "# );\n",
    "# \"\"\")\n",
    "\n",
    "# queries.append(\"\"\"\n",
    "# CREATE TABLE Commits (\n",
    "#     commit_id INTEGER PRIMARY KEY AUTOINCREMENT,\n",
    "#     repo_id INTEGER NOT NULL,\n",
    "#     language_id INTEGER,\n",
    "#     commit_message TEXT NOT NULL,\n",
    "#     git_diff TEXT NOT NULL,\n",
    "#     FOREIGN KEY (repo_id) REFERENCES Repositories (repo_id),\n",
    "#     FOREIGN KEY (language_id) REFERENCES Languages (language_id)\n",
    "# );\n",
    "# \"\"\")\n",
    "\n",
    "# for query in queries:\n",
    "#     c.execute(query)\n",
    "\n",
    "# conn.commit()"
   ]
  },
  {
   "cell_type": "code",
   "execution_count": 6,
   "metadata": {},
   "outputs": [],
   "source": [
    "# for dirpath, dirnames, filenames in os.walk(ROOT_DIR):\n",
    "#     for file in filenames:\n",
    "#         try:\n",
    "#             _, lang, org = dirpath.split('/')\n",
    "#             # print(lang, org, file)\n",
    "\n",
    "#             # Add the language and organization to the database\n",
    "#             c.execute(\"INSERT OR IGNORE INTO Languages (language_name) VALUES (?)\", (lang,))\n",
    "#             c.execute(\"INSERT OR IGNORE INTO Organizations (organization_name) VALUES (?)\", (org,))\n",
    "#             conn.commit()\n",
    "\n",
    "#             # Add the repo\n",
    "#             lang_fk = c.execute(\"SELECT language_id FROM Languages WHERE language_name = ?\", (lang,)).fetchone()[0]\n",
    "#             org_fk = c.execute(\"SELECT organization_id FROM Organizations WHERE organization_name = ?\", (org,)).fetchone()[0]\n",
    "#             c.execute(\"INSERT OR IGNORE INTO Repositories (repo_name, organization_id) VALUES (?, ?)\", (file, org_fk))\n",
    "#             conn.commit()\n",
    "\n",
    "#             # Time to read the commit data\n",
    "#             with open(os.path.join(dirpath, file), 'rb') as f:\n",
    "#                 commits = pickle.load(f)\n",
    "\n",
    "#             for commit in commits:\n",
    "#                 commit_message = commit['msg']\n",
    "#                 git_diff = commit['diff']\n",
    "#                 # Use parameterized queries to insert commit data\n",
    "#                 c.execute(\"INSERT INTO Commits (repo_id, language_id, commit_message, git_diff) VALUES (?, ?, ?, ?)\", (org_fk, lang_fk, commit_message, git_diff))\n",
    "#                 conn.commit()\n",
    "#         except pickle.UnpicklingError as e:\n",
    "#             print(f\"Failed to unpickle file: {file}, error: {e}\")\n",
    "#         except Exception as e:\n",
    "#             print(f\"An error occurred: {e}\")"
   ]
  },
  {
   "cell_type": "markdown",
   "metadata": {},
   "source": [
    "## Step 3. Review the output"
   ]
  },
  {
   "cell_type": "code",
   "execution_count": 7,
   "metadata": {},
   "outputs": [],
   "source": [
    "# # Get list of tables\n",
    "# c.execute(\"SELECT name FROM sqlite_master WHERE type='table';\")\n",
    "# # tables = c.fetchall()\n",
    "# print(\"Tables in the database:\", tables)"
   ]
  },
  {
   "cell_type": "code",
   "execution_count": 8,
   "metadata": {},
   "outputs": [],
   "source": [
    "# # Choose a table to describe\n",
    "# tables = ['Organizations', 'Repositories', 'Languages', 'Commits']\n",
    "\n",
    "# # Get the table information (schema)\n",
    "# for table in tables:\n",
    "#     c.execute(f\"PRAGMA table_info({table});\")\n",
    "#     table_info = c.fetchall()\n",
    "#     print(f\"Schema of {table}:\", table_info)"
   ]
  },
  {
   "cell_type": "code",
   "execution_count": 9,
   "metadata": {},
   "outputs": [
    {
     "data": {
      "text/html": [
       "<div>\n",
       "<style scoped>\n",
       "    .dataframe tbody tr th:only-of-type {\n",
       "        vertical-align: middle;\n",
       "    }\n",
       "\n",
       "    .dataframe tbody tr th {\n",
       "        vertical-align: top;\n",
       "    }\n",
       "\n",
       "    .dataframe thead th {\n",
       "        text-align: right;\n",
       "    }\n",
       "</style>\n",
       "<table border=\"1\" class=\"dataframe\">\n",
       "  <thead>\n",
       "    <tr style=\"text-align: right;\">\n",
       "      <th></th>\n",
       "      <th>commit_id</th>\n",
       "      <th>repo_id</th>\n",
       "      <th>language_id</th>\n",
       "      <th>commit_message</th>\n",
       "      <th>git_diff</th>\n",
       "    </tr>\n",
       "  </thead>\n",
       "  <tbody>\n",
       "    <tr>\n",
       "      <th>0</th>\n",
       "      <td>1</td>\n",
       "      <td>2</td>\n",
       "      <td>1</td>\n",
       "      <td>Merge pull request #1716 from sujit510/feature...</td>\n",
       "      <td>diff --git a/snippets/isAlpha.md b/snippets/is...</td>\n",
       "    </tr>\n",
       "    <tr>\n",
       "      <th>1</th>\n",
       "      <td>2</td>\n",
       "      <td>2</td>\n",
       "      <td>1</td>\n",
       "      <td>Update and rename isAlphabetOnly.md to isAlpha.md</td>\n",
       "      <td>diff --git a/snippets/isAlpha.md b/snippets/is...</td>\n",
       "    </tr>\n",
       "    <tr>\n",
       "      <th>2</th>\n",
       "      <td>3</td>\n",
       "      <td>2</td>\n",
       "      <td>1</td>\n",
       "      <td>Add substring count/indexes</td>\n",
       "      <td>diff --git a/snippets/countSubstrings.md b/sni...</td>\n",
       "    </tr>\n",
       "    <tr>\n",
       "      <th>3</th>\n",
       "      <td>4</td>\n",
       "      <td>2</td>\n",
       "      <td>1</td>\n",
       "      <td>Add generatorToArray</td>\n",
       "      <td>diff --git a/snippets/generatorToArray.md b/sn...</td>\n",
       "    </tr>\n",
       "    <tr>\n",
       "      <th>4</th>\n",
       "      <td>5</td>\n",
       "      <td>2</td>\n",
       "      <td>1</td>\n",
       "      <td>Add storage testers</td>\n",
       "      <td>diff --git a/snippets/isLocalStorageEnabled.md...</td>\n",
       "    </tr>\n",
       "  </tbody>\n",
       "</table>\n",
       "</div>"
      ],
      "text/plain": [
       "   commit_id  repo_id  language_id  \\\n",
       "0          1        2            1   \n",
       "1          2        2            1   \n",
       "2          3        2            1   \n",
       "3          4        2            1   \n",
       "4          5        2            1   \n",
       "\n",
       "                                      commit_message  \\\n",
       "0  Merge pull request #1716 from sujit510/feature...   \n",
       "1  Update and rename isAlphabetOnly.md to isAlpha.md   \n",
       "2                        Add substring count/indexes   \n",
       "3                               Add generatorToArray   \n",
       "4                                Add storage testers   \n",
       "\n",
       "                                            git_diff  \n",
       "0  diff --git a/snippets/isAlpha.md b/snippets/is...  \n",
       "1  diff --git a/snippets/isAlpha.md b/snippets/is...  \n",
       "2  diff --git a/snippets/countSubstrings.md b/sni...  \n",
       "3  diff --git a/snippets/generatorToArray.md b/sn...  \n",
       "4  diff --git a/snippets/isLocalStorageEnabled.md...  "
      ]
     },
     "execution_count": 9,
     "metadata": {},
     "output_type": "execute_result"
    }
   ],
   "source": [
    "conn = sqlite3.connect('commits.db')\n",
    "df = pd.read_sql_query(\"SELECT * FROM Commits LIMIT 100;\", conn)\n",
    "df.head()"
   ]
  },
  {
   "cell_type": "code",
   "execution_count": 11,
   "metadata": {},
   "outputs": [
    {
     "data": {
      "text/plain": [
       "(100, 5)"
      ]
     },
     "execution_count": 11,
     "metadata": {},
     "output_type": "execute_result"
    }
   ],
   "source": [
    "df.shape"
   ]
  },
  {
   "cell_type": "code",
   "execution_count": 12,
   "metadata": {},
   "outputs": [],
   "source": [
    "conn.close()"
   ]
  },
  {
   "cell_type": "code",
   "execution_count": 13,
   "metadata": {},
   "outputs": [
    {
     "name": "stdout",
     "output_type": "stream",
     "text": [
      "Tables in the database: [('Organizations',), ('sqlite_sequence',), ('Repositories',), ('Languages',), ('Commits',)]\n",
      "Schema of Commits: [(0, 'commit_id', 'INTEGER', 0, None, 1), (1, 'repo_id', 'INTEGER', 1, None, 0), (2, 'language_id', 'INTEGER', 0, None, 0), (3, 'commit_message', 'TEXT', 1, None, 0), (4, 'git_diff', 'TEXT', 1, None, 0)]\n",
      "Sample data from Commits: [(1, 2, 1, 'Merge pull request #1716 from sujit510/feature/isAlphabetOnly\\n\\nAdded snippet for isAlphabetOnly', \"diff --git a/snippets/isAlpha.md b/snippets/isAlpha.md\\nnew file mode 100644\\nindex 000000000..5a823b506\\n--- /dev/null\\n+++ b/snippets/isAlpha.md\\n@@ -0,0 +1,18 @@\\n+---\\n+title: isAlpha\\n+tags: string,regexp,beginner\\n+---\\n+\\n+Checks if a string contains only alpha characters.\\n+\\n+- Use `RegExp.prototype.test()` to check if the given string matches against the alphabetic regexp pattern.\\n+\\n+```js\\n+const isAlpha = str => /^[a-zA-Z]*$/.test(str);\\n+```\\n+\\n+```js\\n+isAlpha('sampleInput'); // true\\n+isAlpha('this Will fail'); // false\\n+isAlpha('123'); // false\\n+```\\n\"), (2, 2, 1, 'Update and rename isAlphabetOnly.md to isAlpha.md', \"diff --git a/snippets/isAlpha.md b/snippets/isAlpha.md\\nnew file mode 100644\\nindex 000000000..5a823b506\\n--- /dev/null\\n+++ b/snippets/isAlpha.md\\n@@ -0,0 +1,18 @@\\n+---\\n+title: isAlpha\\n+tags: string,regexp,beginner\\n+---\\n+\\n+Checks if a string contains only alpha characters.\\n+\\n+- Use `RegExp.prototype.test()` to check if the given string matches against the alphabetic regexp pattern.\\n+\\n+```js\\n+const isAlpha = str => /^[a-zA-Z]*$/.test(str);\\n+```\\n+\\n+```js\\n+isAlpha('sampleInput'); // true\\n+isAlpha('this Will fail'); // false\\n+isAlpha('123'); // false\\n+```\\ndiff --git a/snippets/isAlphabetOnly.md b/snippets/isAlphabetOnly.md\\ndeleted file mode 100644\\nindex 3ce1dfbbc..000000000\\n--- a/snippets/isAlphabetOnly.md\\n+++ /dev/null\\n@@ -1,18 +0,0 @@\\n----\\n-title: isAlphabetOnly\\n-tags: string,regexp,beginner\\n----\\n-\\n-Checks if a string contains only alphabetic characters.\\n-- Use `RegExp.prototype.test()` to check if the input string matches against the alphabetic regexp pattern.\\n-\\n-\\n-```js\\n-const isAlphabetOnly = input => /^[a-zA-Z]*$/.test(input)\\n-```\\n-\\n-```js\\n-isAlphabetOnly('sampleInput'); // true\\n-isAlphabetOnly('this Will fail'); // false\\n-isAlphabetOnly('123'); // false\\n-```\\n\"), (3, 2, 1, 'Add substring count/indexes', \"diff --git a/snippets/countSubstrings.md b/snippets/countSubstrings.md\\nnew file mode 100644\\nindex 000000000..cefd26190\\n--- /dev/null\\n+++ b/snippets/countSubstrings.md\\n@@ -0,0 +1,27 @@\\n+---\\n+title: countSubstrings\\n+tags: string,algorithm,beginner\\n+---\\n+\\n+Counts the occurences of a substring in a given string.\\n+\\n+- Use `Array.prototype.indexOf()` to look for `searchValue` in `str`.\\n+- Increment a counter if the value is found and update the index, `i`.\\n+- Use a `while` loop that will return as soon as the value returned from `Array.prototype.indexOf()` is `-1`.\\n+\\n+```js\\n+const countSubstrings = (str, searchValue) => {\\n+  let count = 0,\\n+    i = 0;\\n+  while (true) {\\n+    const r = str.indexOf(searchValue, i);\\n+    if (r !== -1) [count, i] = [count + 1, r + 1];\\n+    else return count;\\n+  }\\n+};\\n+```\\n+\\n+```js\\n+countSubstrings('tiktok tok tok tik tok tik', 'tik'); // 3\\n+countSubstrings('tutut tut tut', 'tut'); // 4\\n+```\\ndiff --git a/snippets/indexOfSubstrings.md b/snippets/indexOfSubstrings.md\\nnew file mode 100644\\nindex 000000000..cd926c703\\n--- /dev/null\\n+++ b/snippets/indexOfSubstrings.md\\n@@ -0,0 +1,29 @@\\n+---\\n+title: indexOfSubstrings\\n+tags: string,algorithm,generator,intermediate\\n+---\\n+\\n+Finds all the indexes of a substring in a given string.\\n+\\n+- Use `Array.prototype.indexOf()` to look for `searchValue` in `str`.\\n+- Use `yield` to return the index if the value is found and update the index, `i`.\\n+- Use a `while` loop that will terminate the generator as soon as the value returned from `Array.prototype.indexOf()` is `-1`.\\n+\\n+```js\\n+const indexOfSubstrings = function* (str, searchValue) {\\n+  let i = 0;\\n+  while (true) {\\n+    const r = str.indexOf(searchValue, i);\\n+    if (r !== -1) {\\n+      yield r;\\n+      i = r + 1;\\n+    } else return;\\n+  }\\n+};\\n+```\\n+\\n+```js\\n+[...indexOfSubstrings('tiktok tok tok tik tok tik', 'tik')]; // [0, 15, 23]\\n+[...indexOfSubstrings('tutut tut tut', 'tut')]; // [0, 2, 6, 10]\\n+[...indexOfSubstrings('hello', 'hi')]; // []\\n+```\\n\"), (4, 2, 1, 'Add generatorToArray', 'diff --git a/snippets/generatorToArray.md b/snippets/generatorToArray.md\\nnew file mode 100644\\nindex 000000000..bdddeda1e\\n--- /dev/null\\n+++ b/snippets/generatorToArray.md\\n@@ -0,0 +1,17 @@\\n+---\\n+title: generatorToArray\\n+tags: function,array,generator,beginner\\n+---\\n+\\n+Converts the output of a generator function to an array.\\n+\\n+- Use the spread operator (`...`) to convert the output of the generator function to an array.\\n+\\n+```js\\n+const generatorToArray = gen => [...gen];\\n+```\\n+\\n+```js\\n+const s = new Set([1, 2, 1, 3, 1, 4]);\\n+generatorToArray(s.entries()); // [[ 1, 1 ], [ 2, 2 ], [ 3, 3 ], [ 4, 4 ]]\\n+```\\n'), (5, 2, 1, 'Add storage testers', 'diff --git a/snippets/isLocalStorageEnabled.md b/snippets/isLocalStorageEnabled.md\\nnew file mode 100644\\nindex 000000000..204b96c4e\\n--- /dev/null\\n+++ b/snippets/isLocalStorageEnabled.md\\n@@ -0,0 +1,26 @@\\n+---\\n+title: isLocalStorageEnabled\\n+tags: browser,intermediate\\n+---\\n+\\n+Checks if `localStorage` is enabled.\\n+\\n+- Use a `try...catch` block to return `true` if all operations complete successfully, `false` otherwise.\\n+- Use `Storage.setItem()` and `Storage.removeItem()` to test storing and deleting a value in `window.localStorage`.\\n+\\n+```js\\n+const isLocalStorageEnabled = () => {\\n+  try {\\n+    const key = `__storage__test`;\\n+    window.localStorage.setItem(key, null);\\n+    window.localStorage.removeItem(key);\\n+    return true;\\n+  } catch (e) {\\n+    return false;\\n+  }\\n+};\\n+```\\n+\\n+```js\\n+isLocalStorageEnabled(); // true, if localStorage is accessible\\n+```\\ndiff --git a/snippets/isSessionStorageEnabled.md b/snippets/isSessionStorageEnabled.md\\nnew file mode 100644\\nindex 000000000..9aaca6aac\\n--- /dev/null\\n+++ b/snippets/isSessionStorageEnabled.md\\n@@ -0,0 +1,26 @@\\n+---\\n+title: isSessionStorageEnabled\\n+tags: browser,intermediate\\n+---\\n+\\n+Checks if `sessionStorage` is enabled.\\n+\\n+- Use a `try...catch` block to return `true` if all operations complete successfully, `false` otherwise.\\n+- Use `Storage.setItem()` and `Storage.removeItem()` to test storing and deleting a value in `window.sessionStorage`.\\n+\\n+```js\\n+const isSessionStorageEnabled = () => {\\n+  try {\\n+    const key = `__storage__test`;\\n+    window.sessionStorage.setItem(key, null);\\n+    window.sessionStorage.removeItem(key);\\n+    return true;\\n+  } catch (e) {\\n+    return false;\\n+  }\\n+};\\n+```\\n+\\n+```js\\n+isSessionStorageEnabled(); // true, if sessionStorage is accessible\\n+```\\n'), (6, 2, 1, 'Add walkThrough', \"diff --git a/snippets/walkThrough.md b/snippets/walkThrough.md\\nnew file mode 100644\\nindex 000000000..9e2d13347\\n--- /dev/null\\n+++ b/snippets/walkThrough.md\\n@@ -0,0 +1,62 @@\\n+---\\n+title: walkThrough\\n+tags: object,recursion,generator,advanced\\n+---\\n+\\n+Creates a generator, that walks through all the keys of a given object.\\n+\\n+- Use recursion.\\n+- Define a generator function, `walk`, that takes an object and an array of keys.\\n+- Use a `for...of` loop and `Object.keys()` to iterate over the keys of the object.\\n+- Use `typeof` to check if each value in the given object is itself an object.\\n+- If so, use the `yield*` expression to recursively delegate to the same generator function, `walk`, appending the current `key` to the array of keys. Otherwise, `yield` the an array of keys representing the current path and the value of the given `key`.\\n+- Use the `yield*` expression to delegate to the `walk` generator function.\\n+\\n+```js\\n+const walkThrough = function* (obj) {\\n+  const walk = function* (x, previous = []) {\\n+    for (let key of Object.keys(x)) {\\n+      if (typeof x[key] === 'object') yield* walk(x[key], [...previous, key]);\\n+      else yield [[...previous, key], x[key]];\\n+    }\\n+  };\\n+  yield* walk(obj);\\n+};\\n+```\\n+\\n+```js\\n+const obj = {\\n+  a: 10,\\n+  b: 20,\\n+  c: {\\n+    d: 10,\\n+    e: 20,\\n+    f: [30, 40]\\n+  },\\n+  g: [\\n+    {\\n+      h: 10,\\n+      i: 20\\n+    },\\n+    {\\n+      j: 30\\n+    },\\n+    40\\n+  ]\\n+};\\n+[...walkThrough(obj)];\\n+/*\\n+[\\n+  [['a'], 10],\\n+  [['b'], 20],\\n+  [['c', 'd'], 10],\\n+  [['c', 'e'], 20],\\n+  [['c', 'f', '0'], 30],\\n+  [['c', 'f', '1'], 40],\\n+  [['g', '0', 'h'], 10],\\n+  [['g', '0', 'i'], 20],\\n+  [['g', '1', 'j'], 30],\\n+  [['g', '2'], 40]\\n+]\\n+*/\\n+```\\n\"), (7, 2, 1, 'Add addClass, removeClass snippets', \"diff --git a/snippets/addClass.md b/snippets/addClass.md\\nnew file mode 100644\\nindex 000000000..0bc8b5916\\n--- /dev/null\\n+++ b/snippets/addClass.md\\n@@ -0,0 +1,17 @@\\n+---\\n+title: addClass\\n+tags: browser,beginner\\n+---\\n+\\n+Adds a class to an HTML element.\\n+\\n+- Use `Element.classList` and `DOMTokenList.add()` to add the specified class to the element.\\n+\\n+```js\\n+const addClass = (el, className) => el.classList.add(className);\\n+```\\n+\\n+```js\\n+addClass(document.querySelector('p'), 'special');\\n+// The paragraph will now have the 'special' class\\n+```\\ndiff --git a/snippets/removeClass.md b/snippets/removeClass.md\\nnew file mode 100644\\nindex 000000000..b6b3b7b9b\\n--- /dev/null\\n+++ b/snippets/removeClass.md\\n@@ -0,0 +1,17 @@\\n+---\\n+title: removeClass\\n+tags: browser,beginner\\n+---\\n+\\n+Removes a class from an HTML element.\\n+\\n+- Use `Element.classList` and `DOMTokenList.remove()` to remove the specified class from the element.\\n+\\n+```js\\n+const removeClass = (el, className) => el.classList.remove(className);\\n+```\\n+\\n+```js\\n+removeClass(document.querySelector('p.special'), 'special');\\n+// The paragraph will not have the 'special' class anymore\\n+```\\n\"), (8, 2, 1, 'Update kMeans.md', 'diff --git a/snippets/kMeans.md b/snippets/kMeans.md\\nindex 3d622009a..3363815e8 100644\\n--- a/snippets/kMeans.md\\n+++ b/snippets/kMeans.md\\n@@ -3,7 +3,7 @@ title: kMeans\\n tags: algorithm,array,advanced\\n ---\\n \\n-Groups the given data into `k` clusters using the k-means clustering algorithm.\\n+Groups the given data into `k` clusters, using the [k-means clustering](https://en.wikipedia.org/wiki/K-means_clustering) algorithm.\\n \\n - Use `Array.from()` and `Array.prototype.slice()` to initialize appropriate variables for the cluster `centroids`, `distances` and `classes`.\\n - Use a `while` loop to repeat the assignment and update steps as long as there are changes in the previous iteration, as indicated by `itr`.\\n'), (9, 2, 1, 'Update kNearestNeighbors.md', 'diff --git a/snippets/kNearestNeighbors.md b/snippets/kNearestNeighbors.md\\nindex 5924f2249..3b789b4b8 100644\\n--- a/snippets/kNearestNeighbors.md\\n+++ b/snippets/kNearestNeighbors.md\\n@@ -3,7 +3,7 @@ title: kNearestNeighbors\\n tags: algorithm,array,advanced\\n ---\\n \\n-Classifies a data point relative to a labelled data set using the k-nearest neighbors algorithm.\\n+Classifies a data point relative to a labelled data set, using the [k-nearest neighbors](https://en.wikipedia.org/wiki/K-nearest_neighbors_algorithm) algorithm.\\n \\n - Use `Array.prototype.map()` to map the `data` to objects containing the euclidean distance of each element from `point`, calculated using `Math.hypot()`, `Object.keys()` and its `label`.\\n - Use `Array.prototype.sort()` and `Array.prototype.slice()` to get the `k` nearest neighbors of `point`.\\n'), (10, 2, 1, 'Update levenshteinDistance.md', 'diff --git a/snippets/levenshteinDistance.md b/snippets/levenshteinDistance.md\\nindex e4c9bc22c..1147607e0 100644\\n--- a/snippets/levenshteinDistance.md\\n+++ b/snippets/levenshteinDistance.md\\n@@ -3,7 +3,7 @@ title: levenshteinDistance\\n tags: string,algorithm,intermediate\\n ---\\n \\n-Calculates the difference between two strings.\\n+Calculates the difference between two strings, using the [Levenshtein distance](https://en.wikipedia.org/wiki/Levenshtein_distance) algorithm.\\n \\n - If either of the two strings has a `length` of zero, return the `length` of the other one.\\n - Use a `for` loop to iterate over the letters of the target string and a nested `for` loop to iterate over the letters of the source string.\\n')]\n",
      "Total number of rows in Commits: 1275151\n"
     ]
    }
   ],
   "source": [
    "conn = sqlite3.connect('commits.db')\n",
    "cursor = conn.cursor()\n",
    "\n",
    "# Get list of tables\n",
    "cursor.execute(\"SELECT name FROM sqlite_master WHERE type='table';\")\n",
    "tables = cursor.fetchall()\n",
    "print(\"Tables in the database:\", tables)\n",
    "\n",
    "# Choose a table to describe\n",
    "table_to_describe = 'Commits'\n",
    "\n",
    "# Get the table information (schema)\n",
    "cursor.execute(f\"PRAGMA table_info({table_to_describe});\")\n",
    "table_info = cursor.fetchall()\n",
    "print(f\"Schema of {table_to_describe}:\", table_info)\n",
    "\n",
    "# Get a sample of data from the table\n",
    "cursor.execute(f\"SELECT * FROM {table_to_describe} LIMIT 10;\")\n",
    "sample_data = cursor.fetchall()\n",
    "print(f\"Sample data from {table_to_describe}:\", sample_data)\n",
    "\n",
    "# Count the number of rows in the table\n",
    "cursor.execute(f\"SELECT COUNT(*) FROM {table_to_describe};\")\n",
    "row_count = cursor.fetchone()\n",
    "print(f\"Total number of rows in {table_to_describe}:\", row_count[0])\n",
    "\n",
    "# Close the connection\n",
    "conn.close()"
   ]
  }
 ],
 "metadata": {
  "kernelspec": {
   "display_name": "env",
   "language": "python",
   "name": "python3"
  },
  "language_info": {
   "codemirror_mode": {
    "name": "ipython",
    "version": 3
   },
   "file_extension": ".py",
   "mimetype": "text/x-python",
   "name": "python",
   "nbconvert_exporter": "python",
   "pygments_lexer": "ipython3",
   "version": "3.9.12"
  }
 },
 "nbformat": 4,
 "nbformat_minor": 2
}
