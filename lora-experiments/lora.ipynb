{
 "cells": [
  {
   "cell_type": "markdown",
   "metadata": {},
   "source": [
    "# Exploring the creation of a LoRA checkpoint\n",
    "\n",
    "Based on this excellent blog post: https://brev.dev/blog/fine-tuning-llama-2-your-own-data"
   ]
  },
  {
   "cell_type": "code",
   "execution_count": 3,
   "metadata": {},
   "outputs": [],
   "source": [
    "# https://brev.dev/blog/fine-tuning-llama-2-your-own-data"
   ]
  },
  {
   "cell_type": "markdown",
   "metadata": {},
   "source": [
    "## Step 0. Setup the running environment\n",
    "\n",
    "- Make sure we're using the correct GPU\n",
    "- Instantiate the accelerator library"
   ]
  },
  {
   "cell_type": "code",
   "execution_count": 1,
   "metadata": {},
   "outputs": [
    {
     "name": "stderr",
     "output_type": "stream",
     "text": [
      "/home/oag6f/llama-lora-finetuning/env/lib/python3.11/site-packages/tqdm/auto.py:21: TqdmWarning: IProgress not found. Please update jupyter and ipywidgets. See https://ipywidgets.readthedocs.io/en/stable/user_install.html\n",
      "  from .autonotebook import tqdm as notebook_tqdm\n"
     ]
    }
   ],
   "source": [
    "from accelerate import FullyShardedDataParallelPlugin, Accelerator\n",
    "from torch.distributed.fsdp.fully_sharded_data_parallel import FullOptimStateDictConfig, FullStateDictConfig\n",
    "import sqlite3\n",
    "import json\n",
    "from datasets import load_dataset\n",
    "import torch\n",
    "from transformers import AutoTokenizer, AutoModelForCausalLM, BitsAndBytesConfig\n",
    "import matplotlib.pyplot as plt"
   ]
  },
  {
   "cell_type": "code",
   "execution_count": 2,
   "metadata": {},
   "outputs": [],
   "source": [
    "# Switch cuda to second GPU\n",
    "torch.cuda.set_device(1)"
   ]
  },
  {
   "cell_type": "code",
   "execution_count": 3,
   "metadata": {},
   "outputs": [
    {
     "name": "stderr",
     "output_type": "stream",
     "text": [
      "Detected kernel version 4.18.0, which is below the recommended minimum of 5.5.0; this can cause the process to hang. It is recommended to upgrade the kernel to the minimum version or higher.\n"
     ]
    }
   ],
   "source": [
    "fsdp_plugin = FullyShardedDataParallelPlugin(\n",
    "    state_dict_config=FullStateDictConfig(offload_to_cpu=True, rank0_only=False),\n",
    "    optim_state_dict_config=FullOptimStateDictConfig(offload_to_cpu=True, rank0_only=False),\n",
    ")\n",
    "\n",
    "accelerator = Accelerator(fsdp_plugin=fsdp_plugin)"
   ]
  },
  {
   "cell_type": "markdown",
   "metadata": {},
   "source": [
    "## Step 2. Convert the Sqlite database to `.jsonl` format\n",
    "\n",
    "This is a one-time operation. We need to get the data in the format that the original Llama model was trained on."
   ]
  },
  {
   "cell_type": "code",
   "execution_count": 6,
   "metadata": {},
   "outputs": [],
   "source": [
    "# {\"input\": \"What color is the sky?\", \"output\": \"The sky is blue.\"}\n",
    "# {\"input\": \"Where is the best place to get cloud GPUs?\", \"output\": \"Brev.dev\"}\n",
    "conn = sqlite3.connect('dataset/commits.db')\n",
    "c = conn.cursor()"
   ]
  },
  {
   "cell_type": "code",
   "execution_count": 8,
   "metadata": {},
   "outputs": [
    {
     "ename": "KeyboardInterrupt",
     "evalue": "",
     "output_type": "error",
     "traceback": [
      "\u001b[0;31m---------------------------------------------------------------------------\u001b[0m",
      "\u001b[0;31mKeyboardInterrupt\u001b[0m                         Traceback (most recent call last)",
      "\u001b[1;32m/home/oag6f/llama-lora-finetuning/finetuning3.ipynb Cell 5\u001b[0m line \u001b[0;36m9\n\u001b[1;32m      <a href='vscode-notebook-cell://ssh-remote%2Bkc-dsaic-gpu001/home/oag6f/llama-lora-finetuning/finetuning3.ipynb#W4sdnNjb2RlLXJlbW90ZQ%3D%3D?line=4'>5</a>\u001b[0m offset \u001b[39m=\u001b[39m \u001b[39m0\u001b[39m\n\u001b[1;32m      <a href='vscode-notebook-cell://ssh-remote%2Bkc-dsaic-gpu001/home/oag6f/llama-lora-finetuning/finetuning3.ipynb#W4sdnNjb2RlLXJlbW90ZQ%3D%3D?line=6'>7</a>\u001b[0m \u001b[39mwhile\u001b[39;00m \u001b[39mTrue\u001b[39;00m:\n\u001b[1;32m      <a href='vscode-notebook-cell://ssh-remote%2Bkc-dsaic-gpu001/home/oag6f/llama-lora-finetuning/finetuning3.ipynb#W4sdnNjb2RlLXJlbW90ZQ%3D%3D?line=7'>8</a>\u001b[0m     \u001b[39m# Retrieve a batch of rows\u001b[39;00m\n\u001b[0;32m----> <a href='vscode-notebook-cell://ssh-remote%2Bkc-dsaic-gpu001/home/oag6f/llama-lora-finetuning/finetuning3.ipynb#W4sdnNjb2RlLXJlbW90ZQ%3D%3D?line=8'>9</a>\u001b[0m     c\u001b[39m.\u001b[39mexecute(\n\u001b[1;32m     <a href='vscode-notebook-cell://ssh-remote%2Bkc-dsaic-gpu001/home/oag6f/llama-lora-finetuning/finetuning3.ipynb#W4sdnNjb2RlLXJlbW90ZQ%3D%3D?line=9'>10</a>\u001b[0m         \u001b[39m'\u001b[39m\u001b[39mSELECT git_diff, commit_message FROM Commits LIMIT ? OFFSET ?\u001b[39m\u001b[39m'\u001b[39m,\n\u001b[1;32m     <a href='vscode-notebook-cell://ssh-remote%2Bkc-dsaic-gpu001/home/oag6f/llama-lora-finetuning/finetuning3.ipynb#W4sdnNjb2RlLXJlbW90ZQ%3D%3D?line=10'>11</a>\u001b[0m         (batch_size, offset)\n\u001b[1;32m     <a href='vscode-notebook-cell://ssh-remote%2Bkc-dsaic-gpu001/home/oag6f/llama-lora-finetuning/finetuning3.ipynb#W4sdnNjb2RlLXJlbW90ZQ%3D%3D?line=11'>12</a>\u001b[0m     )\n\u001b[1;32m     <a href='vscode-notebook-cell://ssh-remote%2Bkc-dsaic-gpu001/home/oag6f/llama-lora-finetuning/finetuning3.ipynb#W4sdnNjb2RlLXJlbW90ZQ%3D%3D?line=12'>13</a>\u001b[0m     rows \u001b[39m=\u001b[39m c\u001b[39m.\u001b[39mfetchall()\n\u001b[1;32m     <a href='vscode-notebook-cell://ssh-remote%2Bkc-dsaic-gpu001/home/oag6f/llama-lora-finetuning/finetuning3.ipynb#W4sdnNjb2RlLXJlbW90ZQ%3D%3D?line=14'>15</a>\u001b[0m     \u001b[39m# If no more rows are fetched, break the loop\u001b[39;00m\n",
      "\u001b[0;31mKeyboardInterrupt\u001b[0m: "
     ]
    }
   ],
   "source": [
    "\n",
    "# # Open the .jsonl file for writing\n",
    "# with open('dataset/commits.jsonl', 'w') as jsonl_file:\n",
    "#     # We will fetch a limited number of rows at a time to avoid memory issues\n",
    "#     batch_size = 1000  # Adjust batch size as per your system's memory constraints\n",
    "#     offset = 0\n",
    "    \n",
    "#     while True:\n",
    "#         # Retrieve a batch of rows\n",
    "#         c.execute(\n",
    "#             'SELECT git_diff, commit_message FROM Commits LIMIT ? OFFSET ?',\n",
    "#             (batch_size, offset)\n",
    "#         )\n",
    "#         rows = c.fetchall()\n",
    "        \n",
    "#         # If no more rows are fetched, break the loop\n",
    "#         if not rows:\n",
    "#             break\n",
    "        \n",
    "#         # For each row, write the JSON object to the file\n",
    "#         for git_diff, commit_message in rows:\n",
    "#             # Construct the JSON object\n",
    "#             json_obj = json.dumps({\n",
    "#                 \"input\": git_diff,\n",
    "#                 \"output\": commit_message\n",
    "#             })\n",
    "#             # Write the JSON object to the file with a newline\n",
    "#             jsonl_file.write(json_obj + '\\n')\n",
    "        \n",
    "#         # Update the offset to fetch the next batch\n",
    "#         offset += batch_size\n",
    "\n",
    "# # Close the database connection\n",
    "# conn.close()\n"
   ]
  },
  {
   "cell_type": "code",
   "execution_count": 9,
   "metadata": {},
   "outputs": [
    {
     "ename": "KeyboardInterrupt",
     "evalue": "",
     "output_type": "error",
     "traceback": [
      "\u001b[0;31m---------------------------------------------------------------------------\u001b[0m",
      "\u001b[0;31mKeyboardInterrupt\u001b[0m                         Traceback (most recent call last)",
      "\u001b[1;32m/home/oag6f/llama-lora-finetuning/finetuning3.ipynb Cell 6\u001b[0m line \u001b[0;36m3\n\u001b[1;32m     <a href='vscode-notebook-cell://ssh-remote%2Bkc-dsaic-gpu001/home/oag6f/llama-lora-finetuning/finetuning3.ipynb#W6sdnNjb2RlLXJlbW90ZQ%3D%3D?line=31'>32</a>\u001b[0m \u001b[39m# Write the rows to their respective files\u001b[39;00m\n\u001b[1;32m     <a href='vscode-notebook-cell://ssh-remote%2Bkc-dsaic-gpu001/home/oag6f/llama-lora-finetuning/finetuning3.ipynb#W6sdnNjb2RlLXJlbW90ZQ%3D%3D?line=32'>33</a>\u001b[0m \u001b[39mfor\u001b[39;00m row \u001b[39min\u001b[39;00m train_rows:\n\u001b[0;32m---> <a href='vscode-notebook-cell://ssh-remote%2Bkc-dsaic-gpu001/home/oag6f/llama-lora-finetuning/finetuning3.ipynb#W6sdnNjb2RlLXJlbW90ZQ%3D%3D?line=33'>34</a>\u001b[0m     train_file\u001b[39m.\u001b[39mwrite(json\u001b[39m.\u001b[39mdumps({\u001b[39m\"\u001b[39m\u001b[39minput\u001b[39m\u001b[39m\"\u001b[39m: row[\u001b[39m0\u001b[39m], \u001b[39m\"\u001b[39m\u001b[39moutput\u001b[39m\u001b[39m\"\u001b[39m: row[\u001b[39m1\u001b[39m]}) \u001b[39m+\u001b[39m \u001b[39m'\u001b[39m\u001b[39m\\n\u001b[39;00m\u001b[39m'\u001b[39m)\n\u001b[1;32m     <a href='vscode-notebook-cell://ssh-remote%2Bkc-dsaic-gpu001/home/oag6f/llama-lora-finetuning/finetuning3.ipynb#W6sdnNjb2RlLXJlbW90ZQ%3D%3D?line=34'>35</a>\u001b[0m \u001b[39mfor\u001b[39;00m row \u001b[39min\u001b[39;00m val_rows:\n\u001b[1;32m     <a href='vscode-notebook-cell://ssh-remote%2Bkc-dsaic-gpu001/home/oag6f/llama-lora-finetuning/finetuning3.ipynb#W6sdnNjb2RlLXJlbW90ZQ%3D%3D?line=35'>36</a>\u001b[0m     val_file\u001b[39m.\u001b[39mwrite(json\u001b[39m.\u001b[39mdumps({\u001b[39m\"\u001b[39m\u001b[39minput\u001b[39m\u001b[39m\"\u001b[39m: row[\u001b[39m0\u001b[39m], \u001b[39m\"\u001b[39m\u001b[39moutput\u001b[39m\u001b[39m\"\u001b[39m: row[\u001b[39m1\u001b[39m]}) \u001b[39m+\u001b[39m \u001b[39m'\u001b[39m\u001b[39m\\n\u001b[39;00m\u001b[39m'\u001b[39m)\n",
      "\u001b[0;31mKeyboardInterrupt\u001b[0m: "
     ]
    }
   ],
   "source": [
    "# Open the .jsonl files for writing in train, validation, and test\n",
    "train_file = open('dataset/commits_train.jsonl', 'w')\n",
    "val_file = open('dataset/commits_val.jsonl', 'w')\n",
    "test_file = open('dataset/commits_test.jsonl', 'w')\n",
    "\n",
    "# We will fetch a limited number of rows at a time to avoid memory issues\n",
    "batch_size = 1000  # Adjust batch size as per your system's memory constraints\n",
    "offset = 0\n",
    "\n",
    "while True:\n",
    "    # Retrieve a batch of rows\n",
    "    c.execute(\n",
    "        'SELECT git_diff, commit_message FROM Commits LIMIT ? OFFSET ?',\n",
    "        (batch_size, offset)\n",
    "    )\n",
    "    rows = c.fetchall()\n",
    "    \n",
    "    # If no more rows are fetched, break the loop\n",
    "    if not rows:\n",
    "        break\n",
    "    \n",
    "    # Determine the number of rows for each split in this batch\n",
    "    train_batch_size = int(len(rows) * 0.7)\n",
    "    val_batch_size = int(len(rows) * 0.1)\n",
    "    test_batch_size = len(rows) - train_batch_size - val_batch_size\n",
    "    \n",
    "    # Split the batch into train, val, and test\n",
    "    train_rows = rows[:train_batch_size]\n",
    "    val_rows = rows[train_batch_size:train_batch_size + val_batch_size]\n",
    "    test_rows = rows[train_batch_size + val_batch_size:]\n",
    "    \n",
    "    # Write the rows to their respective files\n",
    "    for row in train_rows:\n",
    "        train_file.write(json.dumps({\"input\": row[0], \"output\": row[1]}) + '\\n')\n",
    "    for row in val_rows:\n",
    "        val_file.write(json.dumps({\"input\": row[0], \"output\": row[1]}) + '\\n')\n",
    "    for row in test_rows:\n",
    "        test_file.write(json.dumps({\"input\": row[0], \"output\": row[1]}) + '\\n')\n",
    "    \n",
    "    # Update the offset to fetch the next batch\n",
    "    offset += batch_size\n",
    "\n",
    "# Close the files and the database connection\n",
    "train_file.close()\n",
    "val_file.close()\n",
    "test_file.close()\n",
    "conn.close()\n"
   ]
  },
  {
   "cell_type": "markdown",
   "metadata": {},
   "source": [
    "## Step 3. Time to train!"
   ]
  },
  {
   "cell_type": "code",
   "execution_count": 4,
   "metadata": {},
   "outputs": [
    {
     "name": "stderr",
     "output_type": "stream",
     "text": [
      "/home/oag6f/llama-lora-finetuning/env/lib/python3.11/site-packages/datasets/table.py:1421: FutureWarning: promote has been superseded by mode='default'.\n",
      "  table = cls._concat_blocks(blocks, axis=0)\n"
     ]
    }
   ],
   "source": [
    "train_dataset = load_dataset('json', data_files='dataset/commits_train.jsonl', split='train')\n",
    "eval_dataset = load_dataset('json', data_files='dataset/commits_val.jsonl', split='train')"
   ]
  },
  {
   "cell_type": "code",
   "execution_count": 5,
   "metadata": {},
   "outputs": [
    {
     "name": "stderr",
     "output_type": "stream",
     "text": [
      "Loading checkpoint shards: 100%|██████████| 3/3 [00:09<00:00,  3.08s/it]\n"
     ]
    }
   ],
   "source": [
    "# base_model_id = \"meta-llama/Llama-2-7b-hf\"\n",
    "base_model_id = \"codellama/CodeLlama-13b-hf\"\n",
    "bnb_config = BitsAndBytesConfig(\n",
    "    load_in_4bit=True,\n",
    "    bnb_4bit_use_double_quant=True,\n",
    "    bnb_4bit_quant_type=\"nf4\",\n",
    "    bnb_4bit_compute_dtype=torch.bfloat16\n",
    ")\n",
    "\n",
    "model = AutoModelForCausalLM.from_pretrained(base_model_id, quantization_config=bnb_config)"
   ]
  },
  {
   "cell_type": "code",
   "execution_count": 8,
   "metadata": {},
   "outputs": [],
   "source": [
    "def formatting_func(example):\n",
    "    text = f\"\"\"\n",
    "    The user has requested that you write a commit message based on the diff below.\n",
    "\n",
    "    Git diff:\n",
    "    ```\n",
    "    { example['input'] }\n",
    "    ```\n",
    "\n",
    "    Commit message:\n",
    "    ```\n",
    "    { example['output'] }\n",
    "    \"\"\"\n",
    "    return text"
   ]
  },
  {
   "cell_type": "code",
   "execution_count": 9,
   "metadata": {},
   "outputs": [],
   "source": [
    "tokenizer = AutoTokenizer.from_pretrained(\n",
    "    base_model_id,\n",
    "    padding_side=\"left\",\n",
    "    add_eos_token=True,\n",
    "    add_bos_token=True,\n",
    ")\n",
    "tokenizer.pad_token = tokenizer.eos_token\n",
    "\n",
    "def generate_and_tokenize_prompt(prompt):\n",
    "    return tokenizer(formatting_func(prompt), return_tensors=\"pt\", padding=True, truncation=True) # TODO: Are these the right params?"
   ]
  },
  {
   "cell_type": "code",
   "execution_count": null,
   "metadata": {},
   "outputs": [],
   "source": [
    "def plot_data_lengths(tokenize_train_dataset, tokenized_val_dataset):\n",
    "    lengths = [len(x['input_ids']) for x in tokenized_train_dataset]\n",
    "    lengths += [len(x['input_ids']) for x in tokenized_val_dataset]\n",
    "    print(len(lengths))\n",
    "\n",
    "    # Plotting the histogram\n",
    "    plt.figure(figsize=(10, 6))\n",
    "    plt.hist(lengths, bins=20, alpha=0.7, color='blue')\n",
    "    plt.xlabel('Length of input_ids')\n",
    "    plt.ylabel('Frequency')\n",
    "    plt.title('Distribution of Lengths of input_ids')\n",
    "    plt.show()\n",
    "\n",
    "plot_data_lengths(tokenized_train_dataset, tokenized_val_dataset)"
   ]
  },
  {
   "cell_type": "code",
   "execution_count": 10,
   "metadata": {},
   "outputs": [
    {
     "name": "stderr",
     "output_type": "stream",
     "text": [
      "Map:   0%|          | 0/147369 [00:00<?, ? examples/s]Asking to truncate to max_length but no maximum length is provided and the model has no predefined maximum length. Default to no truncation.\n",
      "Map:   1%|          | 1270/147369 [49:24<17:42:42,  2.29 examples/s]  "
     ]
    }
   ],
   "source": [
    "tokenized_train_dataset = train_dataset.map(generate_and_tokenize_prompt)\n",
    "tokenized_val_dataset = eval_dataset.map(generate_and_tokenize_prompt)"
   ]
  }
 ],
 "metadata": {
  "kernelspec": {
   "display_name": "env",
   "language": "python",
   "name": "python3"
  },
  "language_info": {
   "codemirror_mode": {
    "name": "ipython",
    "version": 3
   },
   "file_extension": ".py",
   "mimetype": "text/x-python",
   "name": "python",
   "nbconvert_exporter": "python",
   "pygments_lexer": "ipython3",
   "version": "3.11.4"
  }
 },
 "nbformat": 4,
 "nbformat_minor": 2
}
